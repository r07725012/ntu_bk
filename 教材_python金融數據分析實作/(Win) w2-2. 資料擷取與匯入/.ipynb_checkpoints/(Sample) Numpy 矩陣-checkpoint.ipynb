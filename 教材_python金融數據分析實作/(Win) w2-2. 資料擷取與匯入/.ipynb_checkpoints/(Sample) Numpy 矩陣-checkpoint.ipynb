{
 "cells": [
  {
   "cell_type": "code",
   "execution_count": 1,
   "metadata": {
    "collapsed": false
   },
   "outputs": [
    {
     "name": "stdout",
     "output_type": "stream",
     "text": [
      "Numpy Array: [1 2 4 8]\n",
      "加: [ 2  4  8 16]\n",
      "減: [0 0 0 0]\n",
      "乘: [ 1  4 16 64]\n",
      "除: [ 1.  1.  1.  1.]\n",
      "*0.5 [ 0.5  1.   2.   4. ]\n",
      "Index 2: 4\n",
      "Index 0-2: [1 2]\n"
     ]
    }
   ],
   "source": [
    "import numpy as np\n",
    "\n",
    "# 一維陣列/矩陣創建\n",
    "data = [1,2,4,8]  #list\n",
    "np_data = np.array(data) #Numpy array\n",
    "\n",
    "# Basic Operations\n",
    "print (\"Numpy Array:\" , np_data)\n",
    "print (\"加:\", np_data + np_data)\n",
    "print (\"減:\" , np_data - np_data)\n",
    "print (\"乘:\" , np_data * np_data)\n",
    "print (\"除:\" , np_data / np_data)\n",
    "print (\"*0.5\" , np_data * 0.5)\n",
    "\n",
    "#Indexing\n",
    "print (\"Index 2:\", np_data[2])\n",
    "\n",
    "#切割\n",
    "print (\"Index 0-2:\" , np_data[0:2])"
   ]
  },
  {
   "cell_type": "code",
   "execution_count": 2,
   "metadata": {
    "collapsed": false
   },
   "outputs": [
    {
     "name": "stdout",
     "output_type": "stream",
     "text": [
      "Numpy ndArray:\n",
      " [[ 1  2  4  8]\n",
      " [ 1  3  5  7]\n",
      " [ 3  6  9 12]]\n",
      "Dimensions: (3, 4)\n",
      "加:\n",
      " [[ 2  4  8 16]\n",
      " [ 2  6 10 14]\n",
      " [ 6 12 18 24]]\n",
      "減:\n",
      " [[0 0 0 0]\n",
      " [0 0 0 0]\n",
      " [0 0 0 0]]\n",
      "乘:\n",
      " [[  1   4  16  64]\n",
      " [  1   9  25  49]\n",
      " [  9  36  81 144]]\n",
      "除:\n",
      " [[ 1.  1.  1.  1.]\n",
      " [ 1.  1.  1.  1.]\n",
      " [ 1.  1.  1.  1.]]\n",
      "*0.5\n",
      " [[ 0.5  1.   2.   4. ]\n",
      " [ 0.5  1.5  2.5  3.5]\n",
      " [ 1.5  3.   4.5  6. ]]\n",
      "Index 2:\n",
      " [ 3  6  9 12]\n",
      "Index (2,0):\n",
      " 3\n",
      "Index 0-2:\n",
      " [[1 2 4 8]\n",
      " [1 3 5 7]]\n"
     ]
    }
   ],
   "source": [
    "# 多維數列(矩陣)創建\n",
    "data = [[1,2,4,8],[1,3,5,7],[3,6,9,12]]\n",
    "np_data = np.array(data) #Numpy ndarray\n",
    "print (\"Numpy ndArray:\\n\", np_data)\n",
    "print (\"Dimensions:\" , np_data.shape)  #維度：n*m\n",
    "\n",
    "# Basic Operations\n",
    "print (\"加:\\n\", np_data + np_data)\n",
    "print (\"減:\\n\" , np_data - np_data)\n",
    "print (\"乘:\\n\" , np_data * np_data) #非矩陣相乘\n",
    "print (\"除:\\n\" , np_data / np_data)\n",
    "print (\"*0.5\\n\" , np_data * 0.5)\n",
    "\n",
    "#Indexing\n",
    "print (\"Index 2:\\n\" , np_data[2])\n",
    "print (\"Index (2,0):\\n\" , np_data[2][0])\n",
    "\n",
    "#切割\n",
    "print (\"Index 0-2:\\n\" , np_data[0:2])"
   ]
  },
  {
   "cell_type": "code",
   "execution_count": 3,
   "metadata": {
    "collapsed": false
   },
   "outputs": [
    {
     "name": "stdout",
     "output_type": "stream",
     "text": [
      "absolute value:\n",
      " [[ 0.5  1.   2.   4. ]\n",
      " [ 0.5  1.5  2.5  3.5]\n",
      " [ 1.5  3.   4.5  6. ]]\n",
      "square root:\n",
      " [[ 1.          1.41421356  2.          2.82842712]\n",
      " [ 1.          1.73205081  2.23606798  2.64575131]\n",
      " [ 1.73205081  2.44948974  3.          3.46410162]]\n",
      "log(base e):\n",
      " [[ 0.          0.69314718  1.38629436  2.07944154]\n",
      " [ 0.          1.09861229  1.60943791  1.94591015]\n",
      " [ 1.09861229  1.79175947  2.19722458  2.48490665]]\n",
      "Mean: 5.08333333333\n",
      "Std: 3.27766007322\n",
      "Sum: 61\n",
      "Max: 12\n"
     ]
    }
   ],
   "source": [
    "# 數學運算\n",
    "print (\"absolute value:\\n\" , np.absolute(np_data * -0.5))#絕對值\n",
    "print (\"square root:\\n\" , np.sqrt(np_data)) #平方根\n",
    "print (\"log(base e):\\n\" , np.log(np_data)) #log(base e)\n",
    "#...\n",
    "print (\"Mean:\" , np_data.mean()) #np.mean(np_data) also works\n",
    "print (\"Std:\" , np_data.std()) #np.std(np_data) also works\n",
    "print (\"Sum:\" , np_data.sum()) #np.sum(np_data) also works\n",
    "print (\"Max:\" , np_data.max()) #np.(np_data) also works\n",
    "#..."
   ]
  },
  {
   "cell_type": "code",
   "execution_count": 4,
   "metadata": {
    "collapsed": false
   },
   "outputs": [
    {
     "name": "stdout",
     "output_type": "stream",
     "text": [
      "元素相乘:\n",
      " [[0 0 0]\n",
      " [2 4 6]]\n",
      "轉置矩陣(Transpose)\n",
      " [[0 1]\n",
      " [0 1]\n",
      " [0 1]]\n",
      "矩陣相乘:\n",
      " [[ 0  6]\n",
      " [ 0 12]]\n"
     ]
    }
   ],
   "source": [
    "#矩陣運算\n",
    "data1 = np.array([[1,2,3],[2,4,6]]) #2*3\n",
    "data2 = np.array([[0,0,0],[1,1,1]]) #2*3\n",
    "print (\"元素相乘:\\n\" , data1 * data2)\n",
    "print (\"轉置矩陣(Transpose)\\n\" , data2.transpose())\n",
    "print (\"矩陣相乘:\\n\" , np.dot(data1, data2.transpose()))"
   ]
  },
  {
   "cell_type": "code",
   "execution_count": null,
   "metadata": {
    "collapsed": true
   },
   "outputs": [],
   "source": []
  }
 ],
 "metadata": {
  "anaconda-cloud": {},
  "kernelspec": {
   "display_name": "Python [conda root]",
   "language": "python",
   "name": "conda-root-py"
  },
  "language_info": {
   "codemirror_mode": {
    "name": "ipython",
    "version": 3
   },
   "file_extension": ".py",
   "mimetype": "text/x-python",
   "name": "python",
   "nbconvert_exporter": "python",
   "pygments_lexer": "ipython3",
   "version": "3.5.2"
  }
 },
 "nbformat": 4,
 "nbformat_minor": 0
}
