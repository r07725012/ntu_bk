{
 "cells": [
  {
   "cell_type": "code",
   "execution_count": 1,
   "metadata": {},
   "outputs": [
    {
     "data": {
      "text/html": [
       "<div>\n",
       "<style>\n",
       "    .dataframe thead tr:only-child th {\n",
       "        text-align: right;\n",
       "    }\n",
       "\n",
       "    .dataframe thead th {\n",
       "        text-align: left;\n",
       "    }\n",
       "\n",
       "    .dataframe tbody tr th {\n",
       "        vertical-align: top;\n",
       "    }\n",
       "</style>\n",
       "<table border=\"1\" class=\"dataframe\">\n",
       "  <thead>\n",
       "    <tr style=\"text-align: right;\">\n",
       "      <th></th>\n",
       "      <th>BookID</th>\n",
       "      <th>Income</th>\n",
       "    </tr>\n",
       "  </thead>\n",
       "  <tbody>\n",
       "    <tr>\n",
       "      <th>0</th>\n",
       "      <td>B3</td>\n",
       "      <td>30000</td>\n",
       "    </tr>\n",
       "    <tr>\n",
       "      <th>1</th>\n",
       "      <td>B4</td>\n",
       "      <td>24000</td>\n",
       "    </tr>\n",
       "    <tr>\n",
       "      <th>2</th>\n",
       "      <td>B9</td>\n",
       "      <td>12000</td>\n",
       "    </tr>\n",
       "    <tr>\n",
       "      <th>3</th>\n",
       "      <td>B2</td>\n",
       "      <td>3000</td>\n",
       "    </tr>\n",
       "    <tr>\n",
       "      <th>4</th>\n",
       "      <td>B8</td>\n",
       "      <td>2300</td>\n",
       "    </tr>\n",
       "    <tr>\n",
       "      <th>5</th>\n",
       "      <td>B10</td>\n",
       "      <td>1800</td>\n",
       "    </tr>\n",
       "    <tr>\n",
       "      <th>6</th>\n",
       "      <td>B1</td>\n",
       "      <td>1000</td>\n",
       "    </tr>\n",
       "    <tr>\n",
       "      <th>7</th>\n",
       "      <td>B7</td>\n",
       "      <td>800</td>\n",
       "    </tr>\n",
       "    <tr>\n",
       "      <th>8</th>\n",
       "      <td>B6</td>\n",
       "      <td>400</td>\n",
       "    </tr>\n",
       "    <tr>\n",
       "      <th>9</th>\n",
       "      <td>B5</td>\n",
       "      <td>300</td>\n",
       "    </tr>\n",
       "  </tbody>\n",
       "</table>\n",
       "</div>"
      ],
      "text/plain": [
       "  BookID  Income\n",
       "0     B3   30000\n",
       "1     B4   24000\n",
       "2     B9   12000\n",
       "3     B2    3000\n",
       "4     B8    2300\n",
       "5    B10    1800\n",
       "6     B1    1000\n",
       "7     B7     800\n",
       "8     B6     400\n",
       "9     B5     300"
      ]
     },
     "execution_count": 1,
     "metadata": {},
     "output_type": "execute_result"
    }
   ],
   "source": [
    "import pandas as pd\n",
    "import matplotlib.pyplot as plt\n",
    "%matplotlib inline\n",
    "plt.style.use('ggplot')\n",
    "\n",
    "plt.rcParams['font.family']='DFKai-SB' #顯示中文 (for Win10)\n",
    "\n",
    "df = pd.DataFrame({'BookID':['B1','B2','B3','B4','B5','B6','B7','B8','B9','B10'],'Income':[1000,3000,30000,24000,300,400,800,2300,12000,1800]})\n",
    "df = df.sort_values(by=['Income'],ascending=False).reset_index(drop=True)\n",
    "df"
   ]
  },
  {
   "cell_type": "code",
   "execution_count": 2,
   "metadata": {},
   "outputs": [
    {
     "data": {
      "text/plain": [
       "[0.3968253968253968,\n",
       " 0.71428571428571419,\n",
       " 0.87301587301587291,\n",
       " 0.91269841269841256,\n",
       " 0.94312169312169303,\n",
       " 0.96693121693121686,\n",
       " 0.98015873015873012,\n",
       " 0.9907407407407407,\n",
       " 0.99603174603174605,\n",
       " 1.0]"
      ]
     },
     "execution_count": 2,
     "metadata": {},
     "output_type": "execute_result"
    }
   ],
   "source": [
    "# 計算收入佔總收入百分比（累積）\n",
    "p = []\n",
    "for i in range(len(df)):\n",
    "    x = df['Income'][i]/sum(df['Income'])\n",
    "    if(i!=0):\n",
    "        p.append(x+p[i-1])\n",
    "    else:\n",
    "        p.append(x)\n",
    "p"
   ]
  },
  {
   "cell_type": "code",
   "execution_count": 3,
   "metadata": {},
   "outputs": [
    {
     "data": {
      "image/png": "[encoded data removed]",
      "text/plain": [
       "<matplotlib.figure.Figure at 0x22744bf10f0>"
      ]
     },
     "metadata": {},
     "output_type": "display_data"
    }
   ],
   "source": [
    "fig, ax1 = plt.subplots()\n",
    "ax1.bar(df.index,df['Income'],align='center')\n",
    "ax1.set_ylabel('收入')\n",
    "ax1.set_xlabel('圖書ID')\n",
    "\n",
    "# ax2共用ax1的x軸\n",
    "ax2 = ax1.twinx()\n",
    "ax2.plot(df.index, p, 'r-')\n",
    "ax2.set_ylabel('收入累積比例')\n",
    "ax2.grid(False)\n",
    "\n",
    "#標註過80%的點\n",
    "for i in range(len(p)):\n",
    "    if(p[i]>0.8):\n",
    "        ax2.annotate(round(p[i],3),xy=(df.index[i],p[i]),xytext=(df.index[i],p[i]+0.08), #xy=(箭頭指的點), xytext=(標註文字的位置)\n",
    "                     arrowprops=dict(facecolor='black'))\n",
    "        break\n",
    "\n",
    "plt.xticks(df.index, df['BookID'])\n",
    "plt.title('收入主次因素分析')\n",
    "\n",
    "plt.show()"
   ]
  },
  {
   "cell_type": "code",
   "execution_count": null,
   "metadata": {
    "collapsed": true
   },
   "outputs": [],
   "source": []
  }
 ],
 "metadata": {
  "anaconda-cloud": {},
  "kernelspec": {
   "display_name": "Python 3",
   "language": "python",
   "name": "python3"
  },
  "language_info": {
   "codemirror_mode": {
    "name": "ipython",
    "version": 3
   },
   "file_extension": ".py",
   "mimetype": "text/x-python",
   "name": "python",
   "nbconvert_exporter": "python",
   "pygments_lexer": "ipython3",
   "version": "3.6.1"
  }
 },
 "nbformat": 4,
 "nbformat_minor": 1
}
