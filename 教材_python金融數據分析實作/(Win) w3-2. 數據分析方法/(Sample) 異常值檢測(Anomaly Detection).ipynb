{
 "cells": [
  {
   "cell_type": "markdown",
   "metadata": {},
   "source": [
    "## 1. 四分位數與boxplot"
   ]
  },
  {
   "cell_type": "code",
   "execution_count": 1,
   "metadata": {
    "collapsed": false
   },
   "outputs": [
    {
     "data": {
      "image/png": "[encoded data removed]",
      "text/plain": [
       "<matplotlib.figure.Figure at 0x10483bb38>"
      ]
     },
     "metadata": {},
     "output_type": "display_data"
    }
   ],
   "source": [
    "import matplotlib.pyplot as plt\n",
    "import numpy as np\n",
    "\n",
    "%matplotlib inline\n",
    "\n",
    "x = np.random.randn(1000)\n",
    "r = plt.boxplot(x,showfliers=True) #show outliers\n",
    "plt.show()"
   ]
  },
  {
   "cell_type": "code",
   "execution_count": 2,
   "metadata": {
    "collapsed": false
   },
   "outputs": [
    {
     "data": {
      "text/plain": [
       "{'boxes': [<matplotlib.lines.Line2D at 0x10cfe4b38>],\n",
       " 'caps': [<matplotlib.lines.Line2D at 0x10cff0ef0>,\n",
       "  <matplotlib.lines.Line2D at 0x10cffcdd8>],\n",
       " 'fliers': [<matplotlib.lines.Line2D at 0x10d001e48>],\n",
       " 'means': [],\n",
       " 'medians': [<matplotlib.lines.Line2D at 0x10cffcf60>],\n",
       " 'whiskers': [<matplotlib.lines.Line2D at 0x10cfe4da0>,\n",
       "  <matplotlib.lines.Line2D at 0x10cff0d68>]}"
      ]
     },
     "execution_count": 2,
     "metadata": {},
     "output_type": "execute_result"
    }
   ],
   "source": [
    "r"
   ]
  },
  {
   "cell_type": "code",
   "execution_count": 3,
   "metadata": {
    "collapsed": false
   },
   "outputs": [
    {
     "data": {
      "text/plain": [
       "array([-2.60656717,  2.88037938,  2.96410754,  3.0629754 ,  3.07676123,\n",
       "        2.90354045])"
      ]
     },
     "execution_count": 3,
     "metadata": {},
     "output_type": "execute_result"
    }
   ],
   "source": [
    "r['fliers'][0].get_data()[1]"
   ]
  },
  {
   "cell_type": "code",
   "execution_count": 4,
   "metadata": {
    "collapsed": false
   },
   "outputs": [
    {
     "name": "stdout",
     "output_type": "stream",
     "text": [
      "四分位數 [-0.64441188  0.01008429  0.65753996]\n",
      "IQR 1.30195184061\n",
      "最大值 2.61046772528\n",
      "最小值 -2.59733963716\n"
     ]
    }
   ],
   "source": [
    "from scipy.stats.mstats import mquantiles\n",
    "\n",
    "print ('四分位數',mquantiles(x))\n",
    "\n",
    "IQR = mquantiles(x)[2] - mquantiles(x)[0]\n",
    "print ('IQR',IQR)\n",
    "maximun = mquantiles(x)[2] + 1.5 * IQR\n",
    "print ('最大值',maximun)\n",
    "minimum = mquantiles(x)[0] - 1.5 * IQR\n",
    "print ('最小值',minimum)"
   ]
  },
  {
   "cell_type": "markdown",
   "metadata": {},
   "source": [
    "## 2. 常態分佈標準差"
   ]
  },
  {
   "cell_type": "code",
   "execution_count": 5,
   "metadata": {
    "collapsed": false
   },
   "outputs": [
    {
     "data": {
      "text/plain": [
       "<matplotlib.axes._subplots.AxesSubplot at 0x116e8d080>"
      ]
     },
     "execution_count": 5,
     "metadata": {},
     "output_type": "execute_result"
    },
    {
     "data": {
      "image/png": "[encoded data removed]",
      "text/plain": [
       "<matplotlib.figure.Figure at 0x116e3d6a0>"
      ]
     },
     "metadata": {},
     "output_type": "display_data"
    }
   ],
   "source": [
    "import pandas as pd\n",
    "df = pd.DataFrame({'x':x})\n",
    "df.plot(kind='kde',title='PDF')"
   ]
  },
  {
   "cell_type": "code",
   "execution_count": 6,
   "metadata": {
    "collapsed": false
   },
   "outputs": [
    {
     "name": "stdout",
     "output_type": "stream",
     "text": [
      "平均數 0.0348168565313\n",
      "標準差 0.968349401647\n",
      "最大值 2.93986506147\n",
      "最小值 -2.87023134841\n",
      "超過最大值的異常值             x\n",
      "152  2.964108\n",
      "224  3.062975\n",
      "468  3.076761\n",
      "超過最小值的異常值 Empty DataFrame\n",
      "Columns: [x]\n",
      "Index: []\n"
     ]
    }
   ],
   "source": [
    "print ('平均數',x.mean())\n",
    "print ('標準差',x.std())\n",
    "print ('最大值', x.mean() + 3 * x.std())\n",
    "print ('最小值', x.mean() - 3 * x.std())\n",
    "print ('超過最大值的異常值', df[df['x'] > x.mean() + 3 * x.std()])\n",
    "print ('超過最小值的異常值', df[df['x'] < x.mean() - 3 * x.std()])"
   ]
  }
 ],
 "metadata": {
  "anaconda-cloud": {},
  "kernelspec": {
   "display_name": "Python [default]",
   "language": "python",
   "name": "python3"
  },
  "language_info": {
   "codemirror_mode": {
    "name": "ipython",
    "version": 3
   },
   "file_extension": ".py",
   "mimetype": "text/x-python",
   "name": "python",
   "nbconvert_exporter": "python",
   "pygments_lexer": "ipython3",
   "version": "3.5.2"
  }
 },
 "nbformat": 4,
 "nbformat_minor": 1
}
